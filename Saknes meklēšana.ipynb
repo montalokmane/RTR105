{
 "cells": [
  {
   "cell_type": "markdown",
   "metadata": {},
   "source": [
    "# Saknes meklēšana(sin x^2)"
   ]
  },
  {
   "cell_type": "markdown",
   "metadata": {},
   "source": [
    "Lai varētu izpildīt programmu nepieciešams no \"math\" importēt \"sin, fabs\" un no \"time\" importēt sleep."
   ]
  },
  {
   "cell_type": "code",
   "execution_count": null,
   "metadata": {},
   "outputs": [],
   "source": [
    "# -*- coding: utf-8 -*-\n",
    "from math import sin, fabs\n",
    "from time import sleep"
   ]
  },
  {
   "cell_type": "markdown",
   "metadata": {},
   "source": [
    "Nākamais solis ir mainīgo definēšana."
   ]
  },
  {
   "cell_type": "code",
   "execution_count": null,
   "metadata": {},
   "outputs": [],
   "source": [
    "def f(x):\n",
    "         return sin(x**2)\n",
    "              \n",
    "k = 0\n",
    "a = 1\n",
    "b = 4\n",
    " \n",
    "funa = f(a)\n",
    "funb = f(b)"
   ]
  },
  {
   "cell_type": "markdown",
   "metadata": {},
   "source": [
    "Ja mainīgo reizinājums ir lielāks par nulli, ir divas iespējas-sakne attiecīgajā intervālā ir vai nav.Precizitāte ar kādu tiek meklēts ir 0.01."
   ]
  },
  {
   "cell_type": "code",
   "execution_count": null,
   "metadata": {},
   "outputs": [],
   "source": [
    "if (funa * funb > 0.0 ):\n",
    "    print (\" Dotajā intervālā [%s, %s] Sakņu nav \" %(a,b))\n",
    "    sleep(1); exit()\n",
    "else:\n",
    "    print (\"Dotajā intervālā sakne(s) ir!\")\n",
    "\n",
    "deltax = 0.01"
   ]
  },
  {
   "cell_type": "markdown",
   "metadata": {},
   "source": [
    "Tālāk tiek sašautinātas saknes meklēšanas robežas."
   ]
  },
  {
   "cell_type": "markdown",
   "metadata": {},
   "source": [
    "while ( fabs (b-a) > deltax ) :\n",
    "    k = k+1\n",
    "    x = (a+b)/2; funx = f(x)\n",
    "    if (funa * funx < 0. ) :\n",
    "        b = x\n",
    "    else:\n",
    "        a = x"
   ]
  },
  {
   "cell_type": "markdown",
   "metadata": {},
   "source": [
    "Atliek uzrakstīt kodu, kas izvada iegūto rezūltātu."
   ]
  },
  {
   "cell_type": "code",
   "execution_count": null,
   "metadata": {},
   "outputs": [],
   "source": [
    "print (\" sin(x**2) sakne ir : \", x)\n",
    "print (\" f(x) = \", sin(x**2))\n",
    "print (\" Nepieciešamo iterāciju skaits intervālu dalīšanai uz pusēm: k= \",k)"
   ]
  },
  {
   "cell_type": "markdown",
   "metadata": {},
   "source": [
    "Iegūtais rezūltāts:"
   ]
  },
  {
   "cell_type": "code",
   "execution_count": null,
   "metadata": {},
   "outputs": [],
   "source": [
    "Dotajā intervālā sakne(s) ir!\n",
    " sin(x**2) sakne ir :  1.767578125\n",
    " f(x) =  0.01725936860957465\n",
    " Nepieciešamo iterāciju skaits intervālu dalīšanai uz pusēm: k=  9"
   ]
  }
 ],
 "metadata": {
  "kernelspec": {
   "display_name": "Python 3",
   "language": "python",
   "name": "python3"
  },
  "language_info": {
   "codemirror_mode": {
    "name": "ipython",
    "version": 3
   },
   "file_extension": ".py",
   "mimetype": "text/x-python",
   "name": "python",
   "nbconvert_exporter": "python",
   "pygments_lexer": "ipython3",
   "version": "3.7.1"
  }
 },
 "nbformat": 4,
 "nbformat_minor": 2
}
